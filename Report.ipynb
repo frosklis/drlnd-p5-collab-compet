{
 "cells": [
  {
   "cell_type": "markdown",
   "metadata": {},
   "source": [
    "# Tennis\n",
    "\n",
    "The code below \"solves\" the tennis environment, meaning it gets two agents to succesfully play the game. Or, in more technical terms, the average game reward is +0.5 for 100 games in a row.\n",
    "\n",
    "This game is actually a toy example, where each agent only sees an observation space of 8 variables. The action space consists of two actions that control movement in the x and y axes. \n",
    "\n",
    "It takes 100 episodes to train, meaning that even taking into account the first episodes where it does fairly bad, in the end it is able to play much better than the required +0.5.\n",
    "\n",
    "Regarding implementation, this is multi agent DDPG where the replay buffer can either be shared or separate per agent (configurable). Comparing it to the other projects, I dropped mlflow support (issues with artifact saving) and I added a configuration class which makes the other classes look cleaner."
   ]
  },
  {
   "cell_type": "code",
   "execution_count": 1,
   "metadata": {},
   "outputs": [],
   "source": [
    "# All the code is under src/ so add it to the path first\n",
    "import sys\n",
    "sys.path.insert(0, 'src/')\n",
    "\n",
    "# graphics\n",
    "import matplotlib.pyplot as plt\n",
    "%matplotlib inline\n",
    "\n",
    "# Imports\n",
    "from unityagents import UnityEnvironment\n",
    "from config import Config\n",
    "import torch\n",
    "import numpy as np"
   ]
  },
  {
   "cell_type": "code",
   "execution_count": 2,
   "metadata": {},
   "outputs": [
    {
     "name": "stderr",
     "output_type": "stream",
     "text": [
      "INFO:unityagents:\n",
      "'Academy' started successfully!\n",
      "Unity Academy name: Academy\n",
      "        Number of Brains: 1\n",
      "        Number of External Brains : 1\n",
      "        Lesson number : 0\n",
      "        Reset Parameters :\n",
      "\t\t\n",
      "Unity brain name: TennisBrain\n",
      "        Number of Visual Observations (per agent): 0\n",
      "        Vector Observation space type: continuous\n",
      "        Vector Observation space size (per agent): 8\n",
      "        Number of stacked Vector Observation: 3\n",
      "        Vector Action space type: continuous\n",
      "        Vector Action space size (per agent): 2\n",
      "        Vector Action descriptions: , \n"
     ]
    }
   ],
   "source": [
    "# Change according to your platform or where you have the tennis environment. See README for details.\n",
    "env = UnityEnvironment(file_name='extras/Tennis.app')\n",
    "brain_name = env.brain_names[0]\n",
    "brain = env.brains[brain_name]"
   ]
  },
  {
   "cell_type": "code",
   "execution_count": 3,
   "metadata": {},
   "outputs": [],
   "source": [
    "env_info = env.reset(train_mode=True)[brain_name]"
   ]
  },
  {
   "cell_type": "markdown",
   "metadata": {},
   "source": [
    "## Configuration\n",
    "\n",
    "Set up the way agents will be trained and parameters for their networks. A better work could be done with some hyperparameter exploration and tracking (like I did in the other projects).\n",
    "\n",
    "The configuration that worked for me:\n",
    "\n",
    "- 2 hidden layers with 512 and 256 hidden units for both actor and critic\n",
    "- Shared replay buffer\n",
    "- Replay batch size 512\n",
    "- Buffer size 1e6\n",
    "- Replay without prioritization\n",
    "- Update frequency (update_every) 4\n",
    "- TAU = 1e-3\n",
    "- Learning rate 1e-4 for actor and 3e-4 for critic\n",
    "- Ornstein-Uhlenbeck noise (theta=0.15 and sigma=0.2)\n",
    "- 20% dropout for critic"
   ]
  },
  {
   "cell_type": "code",
   "execution_count": 4,
   "metadata": {},
   "outputs": [],
   "source": [
    "from memory import ReplayBuffer\n",
    "from network import Actor, Critic\n",
    "from noise import OUNoise\n",
    "\n",
    "config = Config()\n",
    "\n",
    "config.seed = 0\n",
    "config.device = torch.device(\"cuda:0\" if torch.cuda.is_available() else \"cpu\")\n",
    "config.action_size = brain.vector_action_space_size\n",
    "config.states = env_info.vector_observations\n",
    "config.state_size = config.states.shape[1]\n",
    "config.num_agents = len(env_info.agents)\n",
    "\n",
    "config.actor_hidden_units = (512,256)\n",
    "config.actor_learning_rate = 1e-4\n",
    "config.actor_network = lambda: Actor(config.action_size, config.state_size, config.actor_hidden_units, config.seed).to(config.device)\n",
    "config.actor_optimizer = lambda params: torch.optim.Adam(params, lr=config.actor_learning_rate)\n",
    "\n",
    "config.critic_hidden_units = (512,256)\n",
    "config.critic_learning_rate = 3e-4\n",
    "config.weight_decay = 0\n",
    "config.critic_network = lambda: Critic(config.action_size, config.state_size, config.critic_hidden_units, config.seed).to(config.device)\n",
    "config.critic_optimizer = lambda params: torch.optim.Adam(params, lr=config.critic_learning_rate)\n",
    "\n",
    "config.shared_replay_buffer = True\n",
    "config.batch_size = 512\n",
    "config.buffer_size = int(1e6)\n",
    "config.discount = 0.99\n",
    "config.update_every = 4\n",
    "config.memory = lambda: ReplayBuffer(config.action_size, config.buffer_size, config.batch_size, config.seed, config.device)\n",
    "\n",
    "config.noise = lambda: OUNoise(config.action_size, config.seed)"
   ]
  },
  {
   "cell_type": "code",
   "execution_count": 5,
   "metadata": {},
   "outputs": [],
   "source": [
    "from multi_agent import MultiAgent\n",
    "multi_agent = MultiAgent(config)"
   ]
  },
  {
   "cell_type": "code",
   "execution_count": 6,
   "metadata": {},
   "outputs": [],
   "source": [
    "def ddpg(n_episodes=30000, max_t=2000):\n",
    "    from collections import deque\n",
    "    all_scores = []\n",
    "    scores_window = deque(maxlen=100)\n",
    "    \n",
    "    for i_episode in range(1, n_episodes+1):\n",
    "        \n",
    "        multi_agent.reset()\n",
    "        env_info = env.reset(train_mode=True)[brain_name]\n",
    "        states = env_info.vector_observations           \n",
    "        scores = np.zeros(config.num_agents)\n",
    "\n",
    "        for i in range(max_t):\n",
    "            actions = multi_agent.act(states)\n",
    "            env_info = env.step(actions)[brain_name]\n",
    "            rewards = env_info.rewards\n",
    "            next_states = env_info.vector_observations\n",
    "            dones = env_info.local_done\n",
    "\n",
    "            multi_agent.step(states, actions, rewards, next_states, dones)\n",
    "\n",
    "            scores += rewards\n",
    "            states = next_states\n",
    "        \n",
    "        # If we took the maximum, it actually would be faster, this is more demanding\n",
    "        # Even more demanding would be to take the minimum\n",
    "        avg_score = np.mean(scores)\n",
    "        scores_window.append(avg_score)\n",
    "        all_scores.append(avg_score)\n",
    "        \n",
    "        print('\\rEpisode {}\\tAverage Score: {:.2f}'.format(i_episode, np.mean(scores_window)), end=\"\")\n",
    "        if i_episode % 100 == 0:\n",
    "            print('\\rEpisode {}\\tAverage Score: {:.2f}'.format(i_episode, np.mean(scores_window)))\n",
    "        \n",
    "        # The and is important, otherwise it exits before 100 episodes and it technally wouldn't be solved\n",
    "        if np.mean(scores_window)>=0.5 and i_episode > 100:\n",
    "            print('\\nEnvironment solved in {:d} episodes!\\tAverage Score: {:.2f}'.format(i_episode-5, np.mean(scores_window)))\n",
    "            torch.save(multi_agent.ddpg_agents[0].actor_local.state_dict(), 'checkpoint_actor.pth')\n",
    "            torch.save(multi_agent.ddpg_agents[0].critic_local.state_dict(), 'checkpoint_critic.pth')\n",
    "            break \n",
    "            \n",
    "    return all_scores"
   ]
  },
  {
   "cell_type": "code",
   "execution_count": 7,
   "metadata": {
    "scrolled": true
   },
   "outputs": [
    {
     "name": "stdout",
     "output_type": "stream",
     "text": [
      "Episode 100\tAverage Score: 1.99\n",
      "Episode 101\tAverage Score: 2.03\n",
      "Environment solved in 96 episodes!\tAverage Score: 2.03\n"
     ]
    },
    {
     "data": {
      "image/png": "[encoded data removed]",
      "text/plain": [
       "<Figure size 1080x216 with 1 Axes>"
      ]
     },
     "metadata": {
      "needs_background": "light"
     },
     "output_type": "display_data"
    }
   ],
   "source": [
    "scores = ddpg()\n",
    "# plot the scores\n",
    "plt.figure(figsize=(15,3))\n",
    "plt.plot(scores)\n",
    "plt.ylabel('Score')\n",
    "plt.xlabel('Episode #')\n",
    "plt.show()\n",
    "env.close()"
   ]
  },
  {
   "cell_type": "markdown",
   "metadata": {},
   "source": [
    "# Final thoughts\n",
    "\n",
    "Even though this example is easy, it still amazes me to see how it looks like something \"clicks\" and it starts playing well around episode 30. But then it peaks at episode 60 and kind of forgets how to play. This loss of perromance is something that is happening to me in project 2 regarding continuous control (still not delivered!)\n",
    "\n",
    "Even though it worked, technically more things could be done in order to make this more interesting for more difficult problems.\n",
    "\n",
    "- Track experiments with mlflow (I did it in my first project, and in the second, which I still can't get to the average score of 30). I would be able to study hyperparameter combinations deeply, but it does make the code a bit harder to follow. It also offers the ability to see the graphic of performance while it is being trained instead of having to wait till the end.\n",
    "- Make it possible to load configuration from a file, to improve (re)usability and experiment reproducibility\n",
    "\n",
    "And on the reinforcement learning side:\n",
    "- Prioritized replay. I never got to implement it, it is something that serves every learning algorithm.\n",
    "- Metaparameter exploration for the agents and for the noise.\n",
    "- Train agents completely independently, meaning having a separate memory buffers for each\n",
    "- And the other way around too, have a shared network for the agents.\n",
    "- Distinguish between training and not training by removing droput in the latter case (should play even better!)\n",
    "\n"
   ]
  }
 ],
 "metadata": {
  "kernelspec": {
   "display_name": "Python [conda env:drlnd-p5-collab-compet]",
   "language": "python",
   "name": "conda-env-drlnd-p5-collab-compet-py"
  },
  "language_info": {
   "codemirror_mode": {
    "name": "ipython",
    "version": 3
   },
   "file_extension": ".py",
   "mimetype": "text/x-python",
   "name": "python",
   "nbconvert_exporter": "python",
   "pygments_lexer": "ipython3",
   "version": "3.6.10"
  }
 },
 "nbformat": 4,
 "nbformat_minor": 2
}
